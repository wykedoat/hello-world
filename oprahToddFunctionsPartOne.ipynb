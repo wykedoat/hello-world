{
  "nbformat": 4,
  "nbformat_minor": 0,
  "metadata": {
    "colab": {
      "provenance": [],
      "authorship_tag": "ABX9TyP2+4q7WZHjE9Ygr09tFB7B",
      "include_colab_link": true
    },
    "kernelspec": {
      "name": "python3",
      "display_name": "Python 3"
    },
    "language_info": {
      "name": "python"
    }
  },
  "cells": [
    {
      "cell_type": "markdown",
      "metadata": {
        "id": "view-in-github",
        "colab_type": "text"
      },
      "source": [
        "<a href=\"https://colab.research.google.com/github/wykedoat/hello-world/blob/master/oprahToddFunctionsPartOne.ipynb\" target=\"_parent\"><img src=\"https://colab.research.google.com/assets/colab-badge.svg\" alt=\"Open In Colab\"/></a>"
      ]
    },
    {
      "cell_type": "code",
      "execution_count": 3,
      "metadata": {
        "colab": {
          "base_uri": "https://localhost:8080/"
        },
        "id": "RvbYSBOxm6oS",
        "outputId": "deac6d56-d185-41d2-8e85-82daa384e3d7"
      },
      "outputs": [
        {
          "output_type": "stream",
          "name": "stdout",
          "text": [
            "Oprah wins on roll  1\n",
            "Oprah wins on roll  4\n",
            "Oprah wins on roll  7\n",
            "Help on method randint in module random:\n",
            "\n",
            "randint(a, b) method of random.Random instance\n",
            "    Return random integer in range [a, b], including both end points.\n",
            "\n"
          ]
        }
      ],
      "source": [
        "from random import randint\n",
        "\n",
        "def my_sum(value1, value2):\n",
        "  result = value1 + value2\n",
        "  return result\n",
        "\n",
        "def main():\n",
        "  for count in range(1, 11):\n",
        "    die1 = randint(1, 6)\n",
        "    die2 = randint(1, 6)\n",
        "    total = my_sum(die1, die2)\n",
        "    if total == 7 or total == 11:\n",
        "      print (\"Oprah wins on roll \", count)\n",
        "  help(randint)\n",
        "\n",
        "main()\n",
        "\n",
        "\n",
        "\n"
      ]
    }
  ]
}