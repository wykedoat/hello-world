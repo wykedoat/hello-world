{
  "nbformat": 4,
  "nbformat_minor": 0,
  "metadata": {
    "colab": {
      "provenance": [],
      "authorship_tag": "ABX9TyN6MPmSWfl4PToXB4T1w4MA",
      "include_colab_link": true
    },
    "kernelspec": {
      "name": "python3",
      "display_name": "Python 3"
    },
    "language_info": {
      "name": "python"
    }
  },
  "cells": [
    {
      "cell_type": "markdown",
      "metadata": {
        "id": "view-in-github",
        "colab_type": "text"
      },
      "source": [
        "<a href=\"https://colab.research.google.com/github/wykedoat/hello-world/blob/master/Ch3homeworkbonus.ipynb\" target=\"_parent\"><img src=\"https://colab.research.google.com/assets/colab-badge.svg\" alt=\"Open In Colab\"/></a>"
      ]
    },
    {
      "cell_type": "code",
      "execution_count": 30,
      "metadata": {
        "colab": {
          "base_uri": "https://localhost:8080/",
          "height": 294
        },
        "id": "xjUyUI355IZG",
        "outputId": "2c53508a-66a2-41dc-e11f-ed3225a2ae48"
      },
      "outputs": [
        {
          "name": "stdout",
          "output_type": "stream",
          "text": [
            "1676166067.2201655\n",
            "0.9488612222683078\n",
            "Enter the quantity to purchase 3\n"
          ]
        },
        {
          "output_type": "error",
          "ename": "TypeError",
          "evalue": "ignored",
          "traceback": [
            "\u001b[0;31m---------------------------------------------------------------------------\u001b[0m",
            "\u001b[0;31mTypeError\u001b[0m                                 Traceback (most recent call last)",
            "\u001b[0;32m<ipython-input-30-0cc81952f885>\u001b[0m in \u001b[0;36m<module>\u001b[0;34m\u001b[0m\n\u001b[1;32m      8\u001b[0m \u001b[0mtotal\u001b[0m \u001b[0;34m=\u001b[0m \u001b[0mquantity\u001b[0m \u001b[0;34m*\u001b[0m \u001b[0mretailPrice\u001b[0m\u001b[0;34m\u001b[0m\u001b[0;34m\u001b[0m\u001b[0m\n\u001b[1;32m      9\u001b[0m \u001b[0mdiscount\u001b[0m\u001b[0;34m=\u001b[0m \u001b[0mfloat\u001b[0m\u001b[0;34m\u001b[0m\u001b[0;34m\u001b[0m\u001b[0m\n\u001b[0;32m---> 10\u001b[0;31m \u001b[0mdiscountedPrice\u001b[0m \u001b[0;34m=\u001b[0m \u001b[0mtotal\u001b[0m \u001b[0;34m*\u001b[0m \u001b[0mdiscount\u001b[0m\u001b[0;34m\u001b[0m\u001b[0;34m\u001b[0m\u001b[0m\n\u001b[0m\u001b[1;32m     11\u001b[0m \u001b[0;34m\u001b[0m\u001b[0m\n\u001b[1;32m     12\u001b[0m \u001b[0;32mif\u001b[0m \u001b[0mquantity\u001b[0m \u001b[0;34m<\u001b[0m \u001b[0;36m10\u001b[0m\u001b[0;34m:\u001b[0m\u001b[0;34m\u001b[0m\u001b[0;34m\u001b[0m\u001b[0m\n",
            "\u001b[0;31mTypeError\u001b[0m: unsupported operand type(s) for *: 'int' and 'type'"
          ]
        }
      ],
      "source": [
        "from time import time\n",
        "from random import random\n",
        "print(time())\n",
        "print(random())\n",
        "# Code for the specific programming project\n",
        "retailPrice = 99\n",
        "quantity = int (input(\"Enter the quantity to purchase \"))\n",
        "total = quantity * retailPrice\n",
        "discount= float\n",
        "discountedPrice = total * discount\n",
        "\n",
        "if quantity < 10:\n",
        "  print(\"Must purchase of 10 to qualify for discount.\")\n",
        "elif quantity >= 10 and quantity <= 19:\n",
        "  discount = 0.20\n",
        "elif quantity >= 20 and quantity <= 49:\n",
        "  discount = 0.30\n",
        "elif quantity >= 50 and quantity <= 99:\n",
        "  discount = 0.40\n",
        "elif quantity >= 100:\n",
        "  discount = 0.50\n",
        "  print(\"Your total is $\"), discountedPrice (\"after a discount of \"), discount (\"\")\n",
        "  print(\"oprahTodd\")\n"
      ]
    }
  ]
}