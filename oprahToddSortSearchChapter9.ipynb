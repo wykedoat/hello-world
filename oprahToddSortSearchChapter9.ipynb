{
  "nbformat": 4,
  "nbformat_minor": 0,
  "metadata": {
    "colab": {
      "provenance": [],
      "authorship_tag": "ABX9TyOOcXiup0LOSc4vXxHNxqdq",
      "include_colab_link": true
    },
    "kernelspec": {
      "name": "python3",
      "display_name": "Python 3"
    },
    "language_info": {
      "name": "python"
    }
  },
  "cells": [
    {
      "cell_type": "markdown",
      "metadata": {
        "id": "view-in-github",
        "colab_type": "text"
      },
      "source": [
        "<a href=\"https://colab.research.google.com/github/wykedoat/hello-world/blob/master/oprahToddSortSearchChapter9.ipynb\" target=\"_parent\"><img src=\"https://colab.research.google.com/assets/colab-badge.svg\" alt=\"Open In Colab\"/></a>"
      ]
    },
    {
      "cell_type": "code",
      "execution_count": 3,
      "metadata": {
        "colab": {
          "base_uri": "https://localhost:8080/"
        },
        "id": "pOWmYwvZlmPa",
        "outputId": "74e1789f-c3bb-4909-b7bf-73ad67280fc0"
      },
      "outputs": [
        {
          "output_type": "stream",
          "name": "stdout",
          "text": [
            "1680117754.8954635\n",
            "0.5744962033558925\n",
            "original list\n",
            "    3     1     4     1     5     9     2     6     5     4 \n",
            "    3     1     4     1     5     4     2     6     5     9 \n",
            "    3     1     4     1     5     4     2     5     6     9 \n",
            "    3     1     4     1     5     4     2     5     6     9 \n",
            "    3     1     4     1     2     4     5     5     6     9 \n",
            "    3     1     4     1     2     4     5     5     6     9 \n",
            "    3     1     2     1     4     4     5     5     6     9 \n",
            "    1     1     2     3     4     4     5     5     6     9 \n",
            "    1     1     2     3     4     4     5     5     6     9 \n",
            "    1     1     2     3     4     4     5     5     6     9 \n",
            "sorted list\n",
            "    1     1     2     3     4     4     5     5     6     9 \n",
            "oprahTodd\n"
          ]
        }
      ],
      "source": [
        "from time import time\n",
        "from random import random\n",
        "print(time())\n",
        "print(random())\n",
        "\n",
        "def print_list(a_list):\n",
        "   for i in range(len(a_list)):\n",
        "     print(\"{:5d}\".format(a_list[i]), end = \" \")\n",
        "   print()\n",
        "\n",
        "def my_swap(a_list, i, j):\n",
        "  temp = a_list[i]\n",
        "  a_list[i] = a_list[j]\n",
        "  a_list[j] = temp\n",
        "\n",
        "def bubble_sort(a_list):\n",
        "    for i in range(len(a_list)):\n",
        "      for j in range(i+1, len(a_list)):\n",
        "        if a_list[i] > a_list[j]:\n",
        "          my_swap(a_list, i, j)\n",
        "          print_list(a_list)\n",
        "def selection_sort(a_list):\n",
        "  for i in range(len(a_list), 1, -1):\n",
        "    max = 0\n",
        "    for j in range(1,i):\n",
        "      if a_list[j] > a_list[max]:\n",
        "        max = j\n",
        "    my_swap(a_list, i - 1, max)\n",
        "    print_list(a_list)\n",
        "\n",
        "def main():\n",
        "  i_list = [3, 1, 4, 1, 5, 9, 2, 6, 5, 4]\n",
        "  print(\"original list\")\n",
        "  print_list(i_list)\n",
        "  selection_sort(i_list)\n",
        "  #bubble_sort(i_list)\n",
        "  print(\"sorted list\")\n",
        "  print_list(i_list)\n",
        "main()\n",
        "\n",
        "\n",
        "\n",
        "\n",
        "\n",
        "\n",
        "print(\"oprahTodd\")\n"
      ]
    }
  ]
}